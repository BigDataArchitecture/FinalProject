{
 "cells": [
  {
   "cell_type": "code",
   "execution_count": 1,
   "id": "477923c2",
   "metadata": {},
   "outputs": [],
   "source": [
    "import boto3"
   ]
  },
  {
   "cell_type": "code",
   "execution_count": 2,
   "id": "c198655b",
   "metadata": {},
   "outputs": [],
   "source": [
    "s3 = boto3.resource('s3')"
   ]
  },
  {
   "cell_type": "code",
   "execution_count": 3,
   "id": "be5656a0",
   "metadata": {},
   "outputs": [
    {
     "name": "stdout",
     "output_type": "stream",
     "text": [
      "cf-templates-1kkf3oieyzpke-us-east-1\n",
      "databasesassignments\n",
      "poshmarkparth\n",
      "serverless-bert-lambda-d-serverlessdeploymentbuck-10z80rrz19hde\n",
      "serverless-bert-summariz-serverlessdeploymentbuck-13z9vasmsrebb\n",
      "serverless-ner-lambda-do-serverlessdeploymentbuck-1thyne7o1enry\n"
     ]
    }
   ],
   "source": [
    "for bucket in s3.buckets.all():\n",
    "    print(bucket.name)"
   ]
  },
  {
   "cell_type": "code",
   "execution_count": 4,
   "id": "842881f7",
   "metadata": {},
   "outputs": [
    {
     "name": "stdout",
     "output_type": "stream",
     "text": [
      "Table has been created, please continue to insert data.\n"
     ]
    }
   ],
   "source": [
    "# Create a table Employee\n",
    "dynamodb = boto3.resource('dynamodb', region_name='us-east-1')\n",
    "mytable = dynamodb.create_table(\n",
    "TableName= 'Employee',\n",
    "KeySchema=[\n",
    "{\n",
    "'KeyType': 'HASH',\n",
    "'AttributeName': 'Id'\n",
    "},\n",
    "{\n",
    "'KeyType': 'RANGE',\n",
    "'AttributeName': 'Sal'\n",
    "}\n",
    "],\n",
    "AttributeDefinitions=[\n",
    "{\n",
    "'AttributeName': 'Id',\n",
    "'AttributeType': 'N'\n",
    "},\n",
    "{\n",
    "'AttributeName': 'Sal',\n",
    "'AttributeType': 'N'\n",
    "}\n",
    "],\n",
    "ProvisionedThroughput={\n",
    "'ReadCapacityUnits': 2,\n",
    "'WriteCapacityUnits': 2\n",
    "}\n",
    ")\n",
    "# Wait until the table creation complete.\n",
    "mytable.meta.client.get_waiter('table_exists').wait(TableName='Employee')\n",
    "print('Table has been created, please continue to insert data.')\n"
   ]
  },
  {
   "cell_type": "code",
   "execution_count": 20,
   "id": "4c1ab650",
   "metadata": {},
   "outputs": [
    {
     "data": {
      "text/plain": [
       "{'ResponseMetadata': {'RequestId': '15T7VMJQHGCH5P80PMOLR5TINNVV4KQNSO5AEMVJF66Q9ASUAAJG',\n",
       "  'HTTPStatusCode': 200,\n",
       "  'HTTPHeaders': {'server': 'Server',\n",
       "   'date': 'Sun, 24 Apr 2022 00:38:31 GMT',\n",
       "   'content-type': 'application/x-amz-json-1.0',\n",
       "   'content-length': '2',\n",
       "   'connection': 'keep-alive',\n",
       "   'x-amzn-requestid': '15T7VMJQHGCH5P80PMOLR5TINNVV4KQNSO5AEMVJF66Q9ASUAAJG',\n",
       "   'x-amz-crc32': '2745614147'},\n",
       "  'RetryAttempts': 0}}"
      ]
     },
     "execution_count": 20,
     "metadata": {},
     "output_type": "execute_result"
    }
   ],
   "source": [
    "devices_table.put_item(\n",
    "    Item={\n",
    "        'ID': '2',\n",
    "        'FirstName': 'Ramasankar',\n",
    "        'LastName': 'Molleti',\n",
    "        'Dept': 'IT',\n",
    "        'Sal': 5000\n",
    "    }\n",
    ")"
   ]
  },
  {
   "cell_type": "code",
   "execution_count": 23,
   "id": "a8d14e57",
   "metadata": {},
   "outputs": [],
   "source": [
    "response = devices_table.scan()"
   ]
  },
  {
   "cell_type": "code",
   "execution_count": 24,
   "id": "785a9ef8",
   "metadata": {},
   "outputs": [
    {
     "data": {
      "text/plain": [
       "[{'Dept': 'IT',\n",
       "  'ID': '2',\n",
       "  'FirstName': 'Ramasankar',\n",
       "  'Sal': Decimal('5000'),\n",
       "  'LastName': 'Molleti'}]"
      ]
     },
     "execution_count": 24,
     "metadata": {},
     "output_type": "execute_result"
    }
   ],
   "source": [
    "response['Items']"
   ]
  },
  {
   "cell_type": "code",
   "execution_count": 16,
   "id": "d840acde",
   "metadata": {},
   "outputs": [],
   "source": [
    "devices_table = dynamodb.Table('Google_News_Article')"
   ]
  },
  {
   "cell_type": "code",
   "execution_count": 17,
   "id": "0ebf9e8b",
   "metadata": {},
   "outputs": [
    {
     "data": {
      "text/plain": [
       "dynamodb.Table(name='Google_News_Article')"
      ]
     },
     "execution_count": 17,
     "metadata": {},
     "output_type": "execute_result"
    }
   ],
   "source": [
    "devices_table"
   ]
  },
  {
   "cell_type": "code",
   "execution_count": null,
   "id": "b67bc595",
   "metadata": {},
   "outputs": [],
   "source": []
  }
 ],
 "metadata": {
  "kernelspec": {
   "display_name": "Python 3.8.0 ('.venv': venv)",
   "language": "python",
   "name": "python380jvsc74a57bd0b4268bdeb8b3cd6119633cfedec5f8ccd1d344ae93aca82ac0bac4da2ecd2271"
  },
  "language_info": {
   "codemirror_mode": {
    "name": "ipython",
    "version": 3
   },
   "file_extension": ".py",
   "mimetype": "text/x-python",
   "name": "python",
   "nbconvert_exporter": "python",
   "pygments_lexer": "ipython3",
   "version": "3.8.0"
  }
 },
 "nbformat": 4,
 "nbformat_minor": 5
}
