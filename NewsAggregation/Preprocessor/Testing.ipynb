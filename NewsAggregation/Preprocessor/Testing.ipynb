{
 "cells": [
  {
   "cell_type": "code",
   "execution_count": 2,
   "id": "ec71cac0",
   "metadata": {},
   "outputs": [],
   "source": [
    "import keyword_generation\n",
    "import sentiment_analysis\n",
    "import tweets\n",
    "import pandas as pd\n",
    "from pandas import DataFrame"
   ]
  },
  {
   "cell_type": "code",
   "execution_count": null,
   "id": "c8ca90b9",
   "metadata": {},
   "outputs": [],
   "source": [
    "!pip3 install newspaper3k"
   ]
  },
  {
   "cell_type": "code",
   "execution_count": 3,
   "id": "dcb45209",
   "metadata": {},
   "outputs": [],
   "source": [
    "doc = '''\"The Commonwealth Bank is trying to win millennial and younger customers by offering lower interest rates on mortgages for homes that meet high environmental standards, as banks compete to promote their green credentials.\n",
    "CBA on Wednesday became the first big four bank to offer a green home loan, promising lower rates if customers’ homes meet specific criteria including minimum usage of solar panels, and no gas appliances or hot water heating.\n",
    "CBA is offering lower interest rates on mortgages that meet high standards on sustainability and energy efficiency.\n",
    "Credit:Michael Clayton-JonesCBA said the loan would offer variable rates as low as 1.99 per cent for owner-occupiers who had a deposit of at least 20 per cent, and who took out a mortgage package.\n",
    "To qualify, the customer’s home would need to meet detailed criteria that included having a minimum amount of solar panels, and having electric cooking and heating instead of gas.\"'''\n",
    "a = keyword_generation.keyword_gen(doc)"
   ]
  },
  {
   "cell_type": "code",
   "execution_count": 4,
   "id": "0fb7bb81",
   "metadata": {},
   "outputs": [
    {
     "name": "stdout",
     "output_type": "stream",
     "text": [
      "\"The Commonwealth Bank is trying to win millennial and younger customers by offering lower interest rates on mortgages for homes that meet high environmental standards, as banks compete to promote their green credentials. CBA on Wednesday became the first big four bank to offer a green home loan, promising lower rates if customers’ homes meet specific criteria including minimum usage of solar panels, and no gas appliances or hot water heating. CBA is offering lower interest rates on mortgages that meet high standards on sustainability and energy efficiency. Credit:Michael Clayton-JonesCBA said the loan would offer variable rates as low as 1.99 per cent for owner-occupiers who had a deposit of at least 20 per cent, and who took out a mortgage package. To qualify, the customer’s home would need to meet detailed criteria that included having a minimum amount of solar panels, and having electric cooking and heating instead of gas.\"\n"
     ]
    },
    {
     "data": {
      "text/plain": [
       "[{'label': 'neutral', 'score': 0.8802213668823242}]"
      ]
     },
     "execution_count": 4,
     "metadata": {},
     "output_type": "execute_result"
    }
   ],
   "source": [
    "sentiment_analysis.sentiments_analysis(doc)"
   ]
  },
  {
   "cell_type": "code",
   "execution_count": 5,
   "id": "a0004346",
   "metadata": {},
   "outputs": [],
   "source": [
    "df = (DataFrame(a, columns=[\"Keyword/Keyphrase\", \"Relevancy\"])\n",
    "        .sort_values(by=\"Relevancy\", ascending=False)\n",
    "        .reset_index(drop=True))"
   ]
  },
  {
   "cell_type": "code",
   "execution_count": 6,
   "id": "dfe96052",
   "metadata": {},
   "outputs": [
    {
     "data": {
      "text/plain": [
       "['wednesday',\n",
       " 'mortgages',\n",
       " 'millennial',\n",
       " 'environmental',\n",
       " 'cooking',\n",
       " 'solar',\n",
       " 'green',\n",
       " 'customers',\n",
       " 'compete',\n",
       " 'low']"
      ]
     },
     "execution_count": 6,
     "metadata": {},
     "output_type": "execute_result"
    }
   ],
   "source": [
    "df['Keyword/Keyphrase'].to_list()"
   ]
  },
  {
   "cell_type": "code",
   "execution_count": 7,
   "id": "f822b9d2",
   "metadata": {},
   "outputs": [
    {
     "name": "stdout",
     "output_type": "stream",
     "text": [
      "2022-04-27 2022-04-20\n",
      "['wednesday', 'mortgages', 'millennial', 'environmental', 'cooking', 'solar', 'green', 'customers', 'compete', 'low']\n",
      "['wednesday', 'mortgages', 'millennial', 'environmental', 'cooking', 'solar', 'green', 'customers', 'compete']\n",
      "['wednesday', 'mortgages', 'millennial', 'environmental', 'cooking', 'solar', 'green', 'customers']\n",
      "['wednesday', 'mortgages', 'millennial', 'environmental', 'cooking', 'solar', 'green']\n",
      "['wednesday', 'mortgages', 'millennial', 'environmental', 'cooking', 'solar']\n",
      "['wednesday', 'mortgages', 'millennial', 'environmental', 'cooking']\n",
      "['wednesday', 'mortgages', 'millennial', 'environmental']\n",
      "['wednesday', 'mortgages', 'millennial']\n",
      "['wednesday', 'mortgages']\n",
      "https://twitter.com/PropertyLaw_UK/status/1518500178755559425\n",
      "{0: {'url': 'https://twitter.com/PropertyLaw_UK/status/1518500178755559425', 'date': Timestamp('2022-04-25 08:00:29+0000', tz='UTC'), 'content': \"Nigel Clayton summarises a case where the High Court had to consider whether a pre-1st April 2014 loan agreement was a regulated agreement under the Consumer Credit Act 1974.\\n\\nGo to https://t.co/Ibsg1ogOFe to read Nigel's article on Wednesday.\\n\\n#mortgages #conveyancing #property https://t.co/LyMfwrtKnN\", 'renderedContent': \"Nigel Clayton summarises a case where the High Court had to consider whether a pre-1st April 2014 loan agreement was a regulated agreement under the Consumer Credit Act 1974.\\n\\nGo to propertylawuk.net/register to read Nigel's article on Wednesday.\\n\\n#mortgages #conveyancing #property https://t.co/LyMfwrtKnN\", 'id': 1518500178755559425, 'user': {'username': 'PropertyLaw_UK', 'id': 1466422477094019087, 'displayname': 'Property Law UK', 'description': 'Property Law UK is a specialist Property Law website, providing detailed property law information and monthly updates.', 'rawDescription': 'Property Law UK is a specialist Property Law website, providing detailed property law information and monthly updates.', 'descriptionUrls': None, 'verified': False, 'created': datetime.datetime(2021, 12, 2, 15, 2, 27, tzinfo=datetime.timezone.utc), 'followersCount': 13, 'friendsCount': 58, 'statusesCount': 110, 'favouritesCount': 2, 'listedCount': 0, 'mediaCount': 104, 'location': '', 'protected': False, 'linkUrl': 'http://propertylawuk.net', 'linkTcourl': 'https://t.co/rpRjSdOYix', 'profileImageUrl': 'https://pbs.twimg.com/profile_images/1468244954489180160/2HKcfic3_normal.png', 'profileBannerUrl': 'https://pbs.twimg.com/profile_banners/1466422477094019087/1638787391', 'label': None}, 'replyCount': 0, 'retweetCount': 0, 'likeCount': 0, 'quoteCount': 0, 'conversationId': 1518500178755559425, 'lang': 'en', 'source': '<a href=\"https://buffer.com\" rel=\"nofollow\">Buffer</a>', 'sourceUrl': 'https://buffer.com', 'sourceLabel': 'Buffer', 'outlinks': ['http://www.propertylawuk.net/register'], 'tcooutlinks': ['https://t.co/Ibsg1ogOFe'], 'media': [{'previewUrl': 'https://pbs.twimg.com/media/FRLL3WMXoAAlZSr?format=jpg&name=small', 'fullUrl': 'https://pbs.twimg.com/media/FRLL3WMXoAAlZSr?format=jpg&name=large'}], 'retweetedTweet': None, 'quotedTweet': None, 'inReplyToTweetId': None, 'inReplyToUser': None, 'mentionedUsers': None, 'coordinates': None, 'place': None, 'hashtags': ['mortgages', 'conveyancing', 'property'], 'cashtags': None}}\n"
     ]
    }
   ],
   "source": [
    "tweet_df = tweets.extract_tweets(df['Keyword/Keyphrase'].to_list())"
   ]
  },
  {
   "cell_type": "code",
   "execution_count": 7,
   "id": "0b71a28e",
   "metadata": {},
   "outputs": [],
   "source": [
    "tweet_df"
   ]
  },
  {
   "cell_type": "code",
   "execution_count": 13,
   "id": "72042237",
   "metadata": {},
   "outputs": [
    {
     "name": "stdout",
     "output_type": "stream",
     "text": [
      "2022-04-27\n"
     ]
    }
   ],
   "source": [
    "from datetime import date\n",
    "\n",
    "today = date.today()\n",
    "print(today)"
   ]
  },
  {
   "cell_type": "code",
   "execution_count": 9,
   "id": "6aaada65",
   "metadata": {},
   "outputs": [
    {
     "ename": "TypeError",
     "evalue": "unsupported operand type(s) for -: 'datetime.date' and 'int'",
     "output_type": "error",
     "traceback": [
      "\u001b[0;31m---------------------------------------------------------------------------\u001b[0m",
      "\u001b[0;31mTypeError\u001b[0m                                 Traceback (most recent call last)",
      "Input \u001b[0;32mIn [9]\u001b[0m, in \u001b[0;36m<cell line: 1>\u001b[0;34m()\u001b[0m\n\u001b[0;32m----> 1\u001b[0m \u001b[38;5;28mprint\u001b[39m(\u001b[43mtoday\u001b[49m\u001b[38;5;241;43m-\u001b[39;49m\u001b[38;5;241;43m7\u001b[39;49m)\n",
      "\u001b[0;31mTypeError\u001b[0m: unsupported operand type(s) for -: 'datetime.date' and 'int'"
     ]
    }
   ],
   "source": [
    "print(today-7)"
   ]
  },
  {
   "cell_type": "code",
   "execution_count": 15,
   "id": "680c6353",
   "metadata": {},
   "outputs": [
    {
     "name": "stdout",
     "output_type": "stream",
     "text": [
      "2022-04-20\n"
     ]
    }
   ],
   "source": [
    "from datetime import datetime\n",
    "from datetime import timedelta\n",
    "yesterday = date.today() - timedelta(days=7)\n",
    "print(yesterday)"
   ]
  },
  {
   "cell_type": "code",
   "execution_count": null,
   "id": "34b1e2d9",
   "metadata": {},
   "outputs": [],
   "source": []
  }
 ],
 "metadata": {
  "kernelspec": {
   "display_name": "Python 3.8.0 ('venv': venv)",
   "language": "python",
   "name": "python380jvsc74a57bd0dbb5ac91fa1f680acc0698fae075e72c757381cf5749cd6d9e5b0f5c6c8dda19"
  },
  "language_info": {
   "codemirror_mode": {
    "name": "ipython",
    "version": 3
   },
   "file_extension": ".py",
   "mimetype": "text/x-python",
   "name": "python",
   "nbconvert_exporter": "python",
   "pygments_lexer": "ipython3",
   "version": "3.8.0"
  }
 },
 "nbformat": 4,
 "nbformat_minor": 5
}
